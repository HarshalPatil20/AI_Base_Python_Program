{
 "cells": [
  {
   "cell_type": "code",
   "execution_count": 1,
   "metadata": {},
   "outputs": [],
   "source": [
    "import tkinter\n",
    "import time\n",
    "from tkinter import scrolledtext "
   ]
  },
  {
   "cell_type": "code",
   "execution_count": 6,
   "metadata": {},
   "outputs": [],
   "source": [
    "class Clock(tkinter.Label):\n",
    "    def __init__(self,parent=None,seconds=True):\n",
    "        tkinter.Label.__init__(self,parent)\n",
    "        \n",
    "        self.display_seconds=seconds\n",
    "        if self.display_seconds:\n",
    "            self.time=time.strftime('%I:%M:%S')\n",
    "        else:\n",
    "            self.time=time.strftime('%I:%M %p').lstrip(\"0\")\n",
    "        self.display_time=self.time\n",
    "        self.configure(text=self.display_time)\n",
    "        \n",
    "        self.after(200,self.tick)\n",
    "        \n",
    "        \n",
    "    def tick(self):\n",
    "        if self.display_seconds:\n",
    "            new_time=time.strftime('%I:%M:%S')\n",
    "        else:\n",
    "            new_time=time.strftime('%I:%M %p').lstrip(\"0\")\n",
    "        if new_time != self.time:\n",
    "            self.time=new_time\n",
    "            self.display_time=self.time\n",
    "            self.config(text=self.display_time)\n",
    "        self.after(200,self.tick)\n",
    "        "
   ]
  },
  {
   "cell_type": "code",
   "execution_count": null,
   "metadata": {},
   "outputs": [],
   "source": [
    "def timestamp():\n",
    "    print(time.strftime('%I:%M:%S'))\n",
    "    \n",
    "if __name__==\"__main__\":\n",
    "    window=tkinter.Tk()\n",
    "    frame=tkinter.Frame(window,width=600,height=800)\n",
    "    frame.pack()\n",
    "    \n",
    "    tkinter.Label(frame,text=\"Current time:\").pack()\n",
    "    \n",
    "    text=scrolledtext.ScrolledText(frame,height=10)\n",
    "    text.pack()\n",
    "    clock1 = Clock(frame)\n",
    "    clock1.pack()\n",
    "    clock1.configure(bg='Yellow', fg=\"black\",font=(\"timenewromman\",65))\n",
    "    \n",
    "    tkinter.Label(frame,text=\" \").pack()\n",
    "    \n",
    "    \n",
    "    b=tkinter.Button(frame,text=\"Quit\",command=quit)\n",
    "    b.pack(side=tkinter.RIGHT)\n",
    "    b2= tkinter.Button(frame,text='Current Time',command=lambda :text.insert(\"end\",time.strftime(\"'%I:%M:%S'\")+'\\n'))\n",
    "    b2.pack(side=tkinter.LEFT)\n",
    "    window.mainloop()\n",
    "    "
   ]
  },
  {
   "cell_type": "code",
   "execution_count": null,
   "metadata": {},
   "outputs": [],
   "source": []
  },
  {
   "cell_type": "code",
   "execution_count": null,
   "metadata": {},
   "outputs": [],
   "source": []
  },
  {
   "cell_type": "code",
   "execution_count": null,
   "metadata": {},
   "outputs": [],
   "source": []
  },
  {
   "cell_type": "code",
   "execution_count": null,
   "metadata": {},
   "outputs": [],
   "source": []
  }
 ],
 "metadata": {
  "kernelspec": {
   "display_name": "Python 3",
   "language": "python",
   "name": "python3"
  },
  "language_info": {
   "codemirror_mode": {
    "name": "ipython",
    "version": 3
   },
   "file_extension": ".py",
   "mimetype": "text/x-python",
   "name": "python",
   "nbconvert_exporter": "python",
   "pygments_lexer": "ipython3",
   "version": "3.8.3"
  }
 },
 "nbformat": 4,
 "nbformat_minor": 4
}
